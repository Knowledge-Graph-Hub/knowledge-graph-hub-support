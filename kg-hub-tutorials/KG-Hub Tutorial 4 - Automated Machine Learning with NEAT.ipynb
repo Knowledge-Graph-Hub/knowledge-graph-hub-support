{
 "cells": [
  {
   "cell_type": "markdown",
   "id": "2e4c6c8a",
   "metadata": {},
   "source": [
    "# KG-Hub Tutorial 4 - Automated Machine Learning with NEAT"
   ]
  },
  {
   "cell_type": "markdown",
   "id": "ac6ff130",
   "metadata": {},
   "source": [
    "This walkthrough descibes how to automate the process of graph ML with the NEAT package. It assumes you have already set up a KG-Hub project and have produced a merged graph, as in the Getting Started tutorial notebook. The graph should be in the `/data/merged/` directory, named `merged-kg.tar.gz`, and be in KGX TSV format.\n",
    "\n",
    "If the merged graph is somewhere else, change the value for `merged_graph_path` below. Otherwise, just run that code block."
   ]
  },
  {
   "cell_type": "code",
   "execution_count": null,
   "id": "c2356de0",
   "metadata": {},
   "outputs": [],
   "source": [
    "merged_graph_path = \"../data/merged/merged-kg.tar.gz\""
   ]
  },
  {
   "cell_type": "markdown",
   "id": "6d2b680a",
   "metadata": {},
   "source": [
    "If you don't already have a graph and just want to dive in, run this next block. It will download a copy of the MONDO disease ontology graph from KG-OBO. This is not the most exciting input, but it's comparatively small and will still work in the following examples."
   ]
  },
  {
   "cell_type": "code",
   "execution_count": null,
   "id": "2e8e4fa6",
   "metadata": {},
   "outputs": [],
   "source": [
    "!wget https://kg-hub.berkeleybop.io/kg-obo/mondo/2022-08-01/mondo_kgx_tsv.tar.gz"
   ]
  },
  {
   "cell_type": "code",
   "execution_count": null,
   "id": "3cf15727",
   "metadata": {},
   "outputs": [],
   "source": [
    "merged_graph_path = \"./mondo_kgx_tsv.tar.gz\""
   ]
  },
  {
   "cell_type": "markdown",
   "id": "aec58b04",
   "metadata": {},
   "source": [
    "## Loading the graph"
   ]
  },
  {
   "cell_type": "markdown",
   "id": "f0670ffd",
   "metadata": {},
   "source": [
    "First, install GraPE and a variety of other dependencies with `pip`:"
   ]
  },
  {
   "cell_type": "code",
   "execution_count": null,
   "id": "11f9142a",
   "metadata": {},
   "outputs": [],
   "source": [
    "%pip install grape -U"
   ]
  },
  {
   "cell_type": "code",
   "execution_count": null,
   "id": "81b04a6f",
   "metadata": {},
   "outputs": [],
   "source": [
    "from grape import Graph"
   ]
  },
  {
   "cell_type": "markdown",
   "id": "bd6c8951",
   "metadata": {},
   "source": [
    "Decompress the graph, as Ensmallen will expect separate node and edge files. If your node and edge filenames differ from the values for `merged_node_filename` and `merged_edge_filename` below, please change them. "
   ]
  },
  {
   "cell_type": "code",
   "execution_count": null,
   "id": "ddbbcb82",
   "metadata": {},
   "outputs": [],
   "source": [
    "!tar xvzf $merged_graph_path"
   ]
  },
  {
   "cell_type": "code",
   "execution_count": null,
   "id": "519dcc12",
   "metadata": {},
   "outputs": [],
   "source": [
    "merged_node_filename = \"merged-kg_nodes.tsv\" # May need to change this to match the block above, like 'mondo_kgx_tsv_nodes.tsv'\n",
    "merged_edge_filename = \"merged-kg_edges.tsv\" # Same here - this may be 'mondo_kgx_tsv_edges.tsv'"
   ]
  },
  {
   "cell_type": "markdown",
   "id": "3e0ef775",
   "metadata": {},
   "source": [
    "Load the graph with Ensmallen's `from_csv`:"
   ]
  },
  {
   "cell_type": "code",
   "execution_count": null,
   "id": "3f58e6ed",
   "metadata": {
    "scrolled": false
   },
   "outputs": [],
   "source": [
    "a_graph = Graph.from_csv(\n",
    "    node_path=merged_node_filename,\n",
    "    edge_path=merged_edge_filename,\n",
    "    node_list_separator=\"\\t\",\n",
    "    edge_list_separator=\"\\t\",\n",
    "    node_list_header=True,  # Always true for KG-Hub KGs\n",
    "    edge_list_header=True,  # Always true for KG-Hub KGs\n",
    "    nodes_column='id',  # Always true for KG-Hub KGs\n",
    "    node_list_node_types_column='category',  # Always true for KG-Hub KGs\n",
    "    sources_column='subject',  # Always true for KG-Hub KGs\n",
    "    destinations_column='object',  # Always true for KG-Hub KGs\n",
    "    directed=False,\n",
    "    name=\"Apple Fritters\",\n",
    "    verbose=True\n",
    ")\n",
    "\n",
    "a_graph"
   ]
  },
  {
   "cell_type": "markdown",
   "id": "41889ce8",
   "metadata": {},
   "source": [
    "We can prepare some training and validation graphs now."
   ]
  },
  {
   "cell_type": "code",
   "execution_count": null,
   "id": "f359a94d",
   "metadata": {},
   "outputs": [],
   "source": [
    "# Generate and save an 80/20 training/validation split of the edges in the input graph.\n",
    "train_edge_path = merged_edge_filename + \".train\"\n",
    "valid_edge_path = merged_edge_filename + \".valid\"\n",
    "\n",
    "train_edge_graph, valid_edge_graph = a_big_graph.random_holdout(train_size=0.8)\n",
    "train_edge_graph.dump_edges(train_edge_path, edge_type_column='predicate')\n",
    "valid_edge_graph.dump_edges(valid_edge_path, edge_type_column='predicate')"
   ]
  },
  {
   "cell_type": "code",
   "execution_count": null,
   "id": "741e00df",
   "metadata": {},
   "outputs": [],
   "source": [
    "# Now the graph of negatives.\n",
    "negative_graph = a_big_graph.sample_negative_graph(a_big_graph.get_number_of_edges()) # Just as many negative examples as positive examples\n",
    "negative_graph = negative_graph.remove_disconnected_nodes()"
   ]
  },
  {
   "cell_type": "code",
   "execution_count": null,
   "id": "62e05f62",
   "metadata": {},
   "outputs": [],
   "source": [
    "# As above, this will save training and validation edge lists.\n",
    "neg_train_edge_path = merged_edge_filename + \".neg_train\"\n",
    "neg_valid_edge_path = merged_edge_filename + \".neg_valid\"\n",
    "\n",
    "neg_train_edge_graph, neg_valid_edge_graph = negative_graph.random_holdout(train_size=0.8)\n",
    "neg_train_edge_graph.dump_edges(neg_train_edge_path, edge_type_column='predicate')\n",
    "neg_valid_edge_graph.dump_edges(neg_valid_edge_path, edge_type_column='predicate')"
   ]
  },
  {
   "cell_type": "markdown",
   "id": "fba34ad5",
   "metadata": {},
   "source": [
    "## Generating embeddings and building classifiers with NEAT"
   ]
  },
  {
   "cell_type": "markdown",
   "id": "07a1491b",
   "metadata": {},
   "source": [
    "The [NEAT](https://github.com/Knowledge-Graph-Hub/neat-ml) package provides a way to define graph machine learning tasks with a single configuration file. We'll generate such a file here, then run NEAT to produce embeddings and a link prediction classifier.\n",
    "\n",
    "We'll start by defining some basic parameters, largely based on what we did in the previous section."
   ]
  },
  {
   "cell_type": "code",
   "execution_count": null,
   "id": "1cbeff8e",
   "metadata": {},
   "outputs": [],
   "source": [
    "%pip install neat-ml -U\n",
    "%pip install scikit-learn"
   ]
  },
  {
   "cell_type": "code",
   "execution_count": null,
   "id": "86b93008",
   "metadata": {},
   "outputs": [],
   "source": [
    "directed = False # Yes, this is technically a directed network, but we'll treat it as undirected\n",
    "node_path = merged_node_filename # Positive training nodes\n",
    "edge_path = train_edge_path # Positive training edges\n",
    "#valid_edge_path - we've already defined this above\n",
    "#neg_train_edge_path - we've already defined this above\n",
    "#neg_valid_edge_path - we've already defined this above\n",
    "\n",
    "# Embedding parameters\n",
    "embedding_file_name = \"embeddings.tsv\"\n",
    "embedding_history_file_name = \"embedding_history.json\"\n",
    "node_embedding_method_name = \"SPINE\"\n",
    "\n",
    "# Classifier parameters - NEAT can build multiple classifier types in one run, if specified in the configuration file\n",
    "edge_method = \"Average\" # one of EdgeTransformer.methods: Hadamard, Sum, Average, L1, AbsoluteL1, L2, or alternatively a lambda\n",
    "classifier_type = \"Logistic Regression\"\n",
    "classifier_model_outfile = \"model_lr.model\"\n",
    "classifier_model_type = \"sklearn.linear_model.LogisticRegression\"\n",
    "classifier_model_random_state = 42\n",
    "classifier_model_max_iter = 1000\n",
    "\n",
    "# Output parameters\n",
    "output_directory = \"./\"\n",
    "config_filename = \"scallops.yaml\""
   ]
  },
  {
   "cell_type": "markdown",
   "id": "773178fd",
   "metadata": {},
   "source": [
    "We'll set this up as a string because the final destination for these parameters is a YAML-format config file."
   ]
  },
  {
   "cell_type": "code",
   "execution_count": null,
   "id": "8a74bc56",
   "metadata": {},
   "outputs": [],
   "source": [
    "outstring = f\"\"\"\n",
    "---\n",
    "Target:\n",
    "  target_path: {output_directory}\n",
    "\n",
    "GraphDataConfiguration:\n",
    "  graph:\n",
    "    directed: {directed}\n",
    "    node_path: {node_path}\n",
    "    edge_path: {edge_path}\n",
    "    verbose: True\n",
    "    nodes_column: \"id\"\n",
    "    node_list_node_types_column: \"category\"\n",
    "    default_node_type: \"biolink:NamedThing\"\n",
    "    sources_column: \"subject\"\n",
    "    destinations_column: \"object\"\n",
    "    default_edge_type: \"biolink:related_to\"\n",
    "  evaluation_data:\n",
    "    valid_data:\n",
    "      pos_edge_filepath: {valid_edge_path}\n",
    "      neg_edge_filepath: {neg_valid_edge_path}\n",
    "    train_data:\n",
    "      neg_edge_filepath: {neg_train_edge_path}\n",
    "\n",
    "EmbeddingsConfig:\n",
    "  filename: {embedding_file_name}\n",
    "  history_filename: {embedding_history_file_name}\n",
    "  node_embeddings_params:\n",
    "    method_name: {node_embedding_method_name}\n",
    "  tsne_filename: tsne.png\n",
    "\n",
    "ClassifierContainer:\n",
    "  classifiers:\n",
    "    - classifier_id: lr_1\n",
    "      classifier_name: {classifier_type}\n",
    "      classifier_type: {classifier_model_type}\n",
    "      edge_method: {edge_method}\n",
    "      outfile: {classifier_model_outfile}\n",
    "      parameters:\n",
    "        sklearn_params:\n",
    "          random_state: {classifier_model_random_state}\n",
    "          max_iter: {classifier_model_max_iter}\n",
    "\n",
    "ApplyTrainedModelsContainer:\n",
    "  models:\n",
    "    - model_id: lr_1\n",
    "      node_types:\n",
    "        source:\n",
    "          - \"biolink:NamedThing\"\n",
    "        destination:\n",
    "          - \"biolink:NamedThing\"\n",
    "      cutoff: 0.9\n",
    "      outfile: lr_protein_predictions.tsv\n",
    "\n",
    "\"\"\"\n",
    "print(outstring)\n",
    "with open(config_filename, \"w\") as outfile:\n",
    "    outfile.write(outstring)"
   ]
  },
  {
   "cell_type": "code",
   "execution_count": null,
   "id": "b71e196f",
   "metadata": {},
   "outputs": [],
   "source": [
    "# NOTE: not working properly at the moment! Throws a RuntimeError!\n",
    "!neat run --config $config_filename"
   ]
  },
  {
   "cell_type": "code",
   "execution_count": null,
   "id": "a5770fc3",
   "metadata": {},
   "outputs": [],
   "source": [
    "from IPython.display import Image\n",
    "Image(filename='tsne.png')"
   ]
  }
 ],
 "metadata": {
  "kernelspec": {
   "display_name": "Python 3 (ipykernel)",
   "language": "python",
   "name": "python3"
  },
  "language_info": {
   "codemirror_mode": {
    "name": "ipython",
    "version": 3
   },
   "file_extension": ".py",
   "mimetype": "text/x-python",
   "name": "python",
   "nbconvert_exporter": "python",
   "pygments_lexer": "ipython3",
   "version": "3.8.10"
  },
  "vscode": {
   "interpreter": {
    "hash": "f9f85f796d01129d0dd105a088854619f454435301f6ffec2fea96ecbd9be4ac"
   }
  }
 },
 "nbformat": 4,
 "nbformat_minor": 5
}
