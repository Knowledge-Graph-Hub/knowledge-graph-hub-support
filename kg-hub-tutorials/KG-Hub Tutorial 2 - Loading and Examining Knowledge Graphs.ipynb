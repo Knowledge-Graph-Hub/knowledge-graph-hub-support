{
 "cells": [
  {
   "cell_type": "markdown",
   "id": "2e4c6c8a",
   "metadata": {},
   "source": [
    "# KG-Hub Tutorial 2 - Loading and Examining Knowledge Graphs"
   ]
  },
  {
   "cell_type": "markdown",
   "id": "ac6ff130",
   "metadata": {},
   "source": [
    "This walkthrough provides a basic introduction to loading KG-Hub graphs for basic analysis. It assumes you have already set up a KG-Hub project and have produced a merged graph, as in the Getting Started tutorial notebook. The graph should be in the `/data/merged/` directory, named `merged-kg.tar.gz`, and be in KGX TSV format.\n",
    "\n",
    "If the merged graph is somewhere else, change the value for `merged_graph_path` below. Otherwise, just run that code block."
   ]
  },
  {
   "cell_type": "code",
   "execution_count": null,
   "id": "c2356de0",
   "metadata": {},
   "outputs": [],
   "source": [
    "merged_graph_path = \"../data/merged/merged-kg.tar.gz\""
   ]
  },
  {
   "cell_type": "markdown",
   "id": "6d2b680a",
   "metadata": {},
   "source": [
    "If you don't already have a graph and just want to dive in, run this next block. It will download a copy of the MONDO disease ontology graph from KG-OBO. This is not the most exciting input, but it's comparatively small and will still work in the following examples."
   ]
  },
  {
   "cell_type": "code",
   "execution_count": null,
   "id": "2e8e4fa6",
   "metadata": {},
   "outputs": [],
   "source": [
    "!wget https://kg-hub.berkeleybop.io/kg-obo/mondo/2022-08-01/mondo_kgx_tsv.tar.gz"
   ]
  },
  {
   "cell_type": "code",
   "execution_count": null,
   "id": "3cf15727",
   "metadata": {},
   "outputs": [],
   "source": [
    "merged_graph_path = \"./mondo_kgx_tsv.tar.gz\""
   ]
  },
  {
   "cell_type": "markdown",
   "id": "aec58b04",
   "metadata": {},
   "source": [
    "## Loading and processing graphs with GraPE"
   ]
  },
  {
   "cell_type": "markdown",
   "id": "dab8ccc3",
   "metadata": {},
   "source": [
    "The [Graph Processing and Embedding (GraPE) package](https://github.com/AnacletoLAB/grape) is a comprehensive toolbox for loading, processing, describing, and otherwise learning from graphs. It has two primary components: Ensmallen, which handles graph processing, and Embiggen, which produces embeddings. Working with large, complex graphs can be very computationally intensive, so the GraPE tools use a variety of strategies to optimize efficiency. They also work very well with KG-Hub graphs!\n",
    "\n",
    "[The full documentation for GraPE is here.](https://anacletolab.github.io/grape/index.html) You'll see that it offers a sizable collection of functions, so feel free to explore. There are also [tutorial notebooks](https://github.com/AnacletoLAB/grape/tree/main/tutorials) to peruse. For now, let's get GraPE ready, load a graph, and learn about its features."
   ]
  },
  {
   "cell_type": "markdown",
   "id": "f0670ffd",
   "metadata": {},
   "source": [
    "First, install GraPE and a variety of other dependencies with `pip`:"
   ]
  },
  {
   "cell_type": "code",
   "execution_count": null,
   "id": "11f9142a",
   "metadata": {},
   "outputs": [],
   "source": [
    "%pip install grape -U"
   ]
  },
  {
   "cell_type": "markdown",
   "id": "fbd97037",
   "metadata": {},
   "source": [
    "Every graph in Ensmallen is loaded as a `Graph` object, so we import that class (and `random`, because we'll use it later):"
   ]
  },
  {
   "cell_type": "code",
   "execution_count": null,
   "id": "81b04a6f",
   "metadata": {},
   "outputs": [],
   "source": [
    "from grape import Graph\n",
    "import random"
   ]
  },
  {
   "cell_type": "markdown",
   "id": "bd6c8951",
   "metadata": {},
   "source": [
    "Decompress the graph, as Ensmallen will expect separate node and edge files. If your node and edge filenames differ from the values for `merged_node_filename` and `merged_edge_filename` below, please change them. "
   ]
  },
  {
   "cell_type": "code",
   "execution_count": null,
   "id": "ddbbcb82",
   "metadata": {},
   "outputs": [],
   "source": [
    "!tar xvzf $merged_graph_path"
   ]
  },
  {
   "cell_type": "code",
   "execution_count": null,
   "id": "519dcc12",
   "metadata": {},
   "outputs": [],
   "source": [
    "merged_node_filename = \"merged-kg_nodes.tsv\" # May need to change this to match the block above, like 'mondo_kgx_tsv_nodes.tsv'\n",
    "merged_edge_filename = \"merged-kg_edges.tsv\" # Same here - this may be 'mondo_kgx_tsv_edges.tsv'"
   ]
  },
  {
   "cell_type": "markdown",
   "id": "3e0ef775",
   "metadata": {},
   "source": [
    "Load the graph with Ensmallen's `from_csv` (don't worry, we will tell it that these are tsv files, not csv):"
   ]
  },
  {
   "cell_type": "code",
   "execution_count": null,
   "id": "3f58e6ed",
   "metadata": {
    "scrolled": false
   },
   "outputs": [],
   "source": [
    "a_big_graph = Graph.from_csv(\n",
    "    node_path=merged_node_filename,\n",
    "    edge_path=merged_edge_filename,\n",
    "    node_list_separator=\"\\t\",\n",
    "    edge_list_separator=\"\\t\",\n",
    "    node_list_header=True,  # Always true for KG-Hub KGs\n",
    "    edge_list_header=True,  # Always true for KG-Hub KGs\n",
    "    nodes_column='id',  # Always true for KG-Hub KGs\n",
    "    node_list_node_types_column='category',  # Always true for KG-Hub KGs\n",
    "    sources_column='subject',  # Always true for KG-Hub KGs\n",
    "    destinations_column='object',  # Always true for KG-Hub KGs\n",
    "    directed=False,\n",
    "    name=\"Big Graph of Nodes and Edges\",\n",
    "    verbose=True\n",
    ")\n",
    "\n",
    "a_big_graph"
   ]
  },
  {
   "cell_type": "markdown",
   "id": "606e4886",
   "metadata": {},
   "source": [
    "Great, now we've loaded a graph and have a very comprehensive idea of its contents, at least in terms of topology.\n",
    "\n",
    "We can retrieve the total count of connected nodes (i.e., exclude all disconnected nodes from the count):"
   ]
  },
  {
   "cell_type": "code",
   "execution_count": null,
   "id": "53532051",
   "metadata": {},
   "outputs": [],
   "source": [
    "a_big_graph.get_number_of_connected_nodes()"
   ]
  },
  {
   "cell_type": "markdown",
   "id": "c8a92a27",
   "metadata": {},
   "source": [
    "We can also retrieve a random array of nodes to work with:"
   ]
  },
  {
   "cell_type": "code",
   "execution_count": null,
   "id": "00265604",
   "metadata": {},
   "outputs": [],
   "source": [
    "# This will output a numpy array.\n",
    "# Set random_state to a specific value to get the same result reproducibly\n",
    "random_int = random.randint(10000,99999)\n",
    "some_nodes = a_big_graph.get_sorted_unique_random_nodes(number_of_nodes_to_sample=10, random_state=random_int)\n",
    "some_nodes"
   ]
  },
  {
   "cell_type": "markdown",
   "id": "2c192931",
   "metadata": {},
   "source": [
    "The nodes are represented as integers for the sake of efficiency. If you'd prefer names, we can get those too:"
   ]
  },
  {
   "cell_type": "code",
   "execution_count": null,
   "id": "e1f45849",
   "metadata": {},
   "outputs": [],
   "source": [
    "all_node_names = []\n",
    "for node_id in some_nodes:\n",
    "    node_name = a_big_graph.get_node_name_from_node_id(node_id)\n",
    "    all_node_names.append((node_id,node_name))\n",
    "all_node_names"
   ]
  },
  {
   "cell_type": "markdown",
   "id": "789c9f2e",
   "metadata": {},
   "source": [
    "We can see how many neighbors each node has (i.e., its degree):"
   ]
  },
  {
   "cell_type": "code",
   "execution_count": null,
   "id": "a1556897",
   "metadata": {},
   "outputs": [],
   "source": [
    "all_node_degrees = []\n",
    "for node_id in some_nodes:\n",
    "    node_degree = a_big_graph.get_node_degree_from_node_id(node_id)\n",
    "    all_node_degrees.append((node_id,node_degree))\n",
    "all_node_degrees"
   ]
  },
  {
   "cell_type": "markdown",
   "id": "f5d03776",
   "metadata": {},
   "source": [
    "We may also retrieve node types, starting with the node ID numbers:"
   ]
  },
  {
   "cell_type": "code",
   "execution_count": null,
   "id": "89d2272e",
   "metadata": {},
   "outputs": [],
   "source": [
    "all_node_types = []\n",
    "for node_id in some_nodes:\n",
    "    one_node_type = a_big_graph.get_node_type_names_from_node_id(node_id)\n",
    "    if one_node_type not in all_node_types:\n",
    "        all_node_types.append(one_node_type)\n",
    "all_node_types"
   ]
  },
  {
   "cell_type": "markdown",
   "id": "a8d438df",
   "metadata": {},
   "source": [
    "One node may have multiple node types, delimited by pipe characters.\n",
    "\n",
    "It's also entirely possible that there's only one node type in this set, usually `biolink:NamedThing`. That's almost the most generic class available in Biolink.\n",
    "\n",
    "Let's collect some more metrics about this graph. Some of these will be redundant with the report generated above, but it's convenient to collect them individually."
   ]
  },
  {
   "cell_type": "code",
   "execution_count": null,
   "id": "e6ebe8de",
   "metadata": {},
   "outputs": [],
   "source": [
    "graph_stats = {\n",
    "    \"node_count\": a_big_graph.get_number_of_nodes(),\n",
    "    \"edge_count\": a_big_graph.get_number_of_edges(),\n",
    "    \"connected_components\": a_big_graph.get_number_of_connected_components(),\n",
    "    \"density\": a_big_graph.get_density(),\n",
    "    \"singleton_count\": a_big_graph.get_number_of_singleton_nodes(),\n",
    "    \"max_node_degree\": a_big_graph.get_maximum_node_degree(),\n",
    "    \"mean_node_degree\": a_big_graph.get_node_degrees_mean(),\n",
    "    # This last one can take some time to complete,\n",
    "    # so comment it out if you're impatient.\n",
    "    \"betweenness_centrality\": a_big_graph.get_betweenness_centrality()\n",
    "}\n",
    "graph_stats"
   ]
  },
  {
   "cell_type": "markdown",
   "id": "ca9eacd2",
   "metadata": {},
   "source": [
    "Let's see which nodes are singletons."
   ]
  },
  {
   "cell_type": "code",
   "execution_count": null,
   "id": "ab4f50a3",
   "metadata": {},
   "outputs": [],
   "source": [
    "a_big_graph.get_singleton_node_names()"
   ]
  },
  {
   "cell_type": "markdown",
   "id": "06c7f71f",
   "metadata": {},
   "source": [
    "We may wish to trim these or other nodes and edges from the graph, whether it's because they just add noise or because they prevent downstream analyses from working properly (for example, disconnected nodes aren't compatible with many graph embedding methods). Here's how we do that:"
   ]
  },
  {
   "cell_type": "code",
   "execution_count": null,
   "id": "5adbc403",
   "metadata": {},
   "outputs": [],
   "source": [
    "before = a_big_graph.get_number_of_nodes()\n",
    "a_trimmed_graph = a_big_graph.remove_disconnected_nodes()\n",
    "a_trimmed_graph = a_trimmed_graph.remove_selfloops()\n",
    "# The next line will remove all but the largest connected component.\n",
    "a_trimmed_graph = a_trimmed_graph.remove_components(top_k_components=1)\n",
    "after = a_trimmed_graph.get_number_of_nodes()\n",
    "print(f\"Nodes removed: {before - after}\")"
   ]
  },
  {
   "cell_type": "markdown",
   "id": "88581b76",
   "metadata": {},
   "source": [
    "Is the new graph truly a subgraph of the original? We can verify that:"
   ]
  },
  {
   "cell_type": "code",
   "execution_count": null,
   "id": "07e06ffa",
   "metadata": {},
   "outputs": [],
   "source": [
    "# If this is True, all nodes and edges \n",
    "# in a_trimmed_graph are also in a_big_graph.\n",
    "a_big_graph.contains(a_trimmed_graph)"
   ]
  },
  {
   "cell_type": "markdown",
   "id": "fe5a85e6",
   "metadata": {},
   "source": [
    "For more graph fun, see the next tutorials, 'Link Prediction and More Graph Machine Learning' and 'Automated Machine Learning with NEAT'."
   ]
  }
 ],
 "metadata": {
  "kernelspec": {
   "display_name": "Python 3 (ipykernel)",
   "language": "python",
   "name": "python3"
  },
  "language_info": {
   "codemirror_mode": {
    "name": "ipython",
    "version": 3
   },
   "file_extension": ".py",
   "mimetype": "text/x-python",
   "name": "python",
   "nbconvert_exporter": "python",
   "pygments_lexer": "ipython3",
   "version": "3.8.10"
  },
  "vscode": {
   "interpreter": {
    "hash": "f9f85f796d01129d0dd105a088854619f454435301f6ffec2fea96ecbd9be4ac"
   }
  }
 },
 "nbformat": 4,
 "nbformat_minor": 5
}
