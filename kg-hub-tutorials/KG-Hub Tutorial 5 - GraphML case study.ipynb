{
 "cells": [
  {
   "cell_type": "markdown",
   "id": "2e4c6c8a",
   "metadata": {},
   "source": [
    "# KG-Hub Tutorial 5 - Graph ML case study"
   ]
  },
  {
   "cell_type": "markdown",
   "id": "b57c228f",
   "metadata": {},
   "source": [
    "##### Here we describe a more detailed graph ML case study using KG-Hub graph data. The intention is to show how the various features of KG-Hub and GRAPE can be used to extract knowledge from KGs using graph ML.\n",
    "\n",
    "This workflow will demonstrate how to use KG-Hub and GRAPE for:\n",
    "- Getting the graph\n",
    "    - getting a stable, versioned graph data from KG-Hub for a particular KG project\n",
    "- Loading the graph\n",
    "    - loading the graph in GRAPE and getting a summary of the graph and its topology\n",
    "- Examining the graph\n",
    "    - getting a sense of the graph topology\n",
    "- Making node embeddings and evaluate them\n",
    "    - producing node embeddings, and evaluating them with detailed metrics provided by GRAPE\n",
    "- Using cosine similarity to rank drugs for relevance to COVID-19\n",
    "\n",
    "This will demonstrate several useful features of KG-Hub and GRAPE in graph ML workflows:\n",
    "- Pinning of analyses to versioned builds of KG projects (here the 20200925 build of KG-COVID-19, using stable, permanent URLs\n",
    "- Tight integration of KG-Hub graphs with GRAPE - KG-Hub data can be read directly into GRAPE\n",
    "- Using GRAPE to produce a very detailed analysis of KGs from KG-Hub, summarizing the data and graph topology in seconds\n",
    "- Quickly producing node embeddings and examining the features of these node embeddings (see tSNE plots below)\n",
    "- Using these node embeddings to rank the relevance of drugs in the KG to a node of interest (here, SARS-CoV-2)"
   ]
  },
  {
   "cell_type": "markdown",
   "id": "aec58b04",
   "metadata": {},
   "source": [
    "## Getting the graph"
   ]
  },
  {
   "cell_type": "markdown",
   "id": "f0670ffd",
   "metadata": {},
   "source": [
    "First, install GraPE and a variety of other dependencies with `pip`:"
   ]
  },
  {
   "cell_type": "code",
   "execution_count": null,
   "id": "11f9142a",
   "metadata": {},
   "outputs": [],
   "source": [
    "!pip install -qU grape"
   ]
  },
  {
   "attachments": {},
   "cell_type": "markdown",
   "id": "dc143f9e",
   "metadata": {},
   "source": [
    "We will have a look here to see what builds of this KG are available: `https://kg-hub.berkeleybop.io/kg-covid-19/`"
   ]
  },
  {
   "cell_type": "markdown",
   "id": "c05d38bf",
   "metadata": {},
   "source": [
    "We will pin our analysis to one of the earlier builds (20200925) of KG-COVID-19. This project has evolved a lot since Sept 2020, but this will give us only data that was available early on in the pandemic."
   ]
  },
  {
   "cell_type": "code",
   "execution_count": null,
   "id": "c10d7397",
   "metadata": {
    "scrolled": false
   },
   "outputs": [],
   "source": [
    "!wget https://kg-hub.berkeleybop.io/kg-covid-19/20200925/kg-covid-19.tar.gz\n",
    "!tar -xvzf kg-covid-19.tar.gz"
   ]
  },
  {
   "cell_type": "markdown",
   "id": "47efad5b",
   "metadata": {},
   "source": [
    "## Loading the graph"
   ]
  },
  {
   "cell_type": "code",
   "execution_count": null,
   "id": "9ce4dd73",
   "metadata": {},
   "outputs": [],
   "source": [
    "from grape import Graph\n",
    "g = Graph.from_csv(\n",
    "  directed=False, # This is a directed graph - we're treating it as undirected to make it easier to examine paths.\n",
    "  node_path='merged-kg_nodes.tsv',\n",
    "  edge_path='merged-kg_edges.tsv',\n",
    "  verbose=True,\n",
    "  nodes_column='id',\n",
    "  node_list_node_types_column='category',\n",
    "  default_node_type='biolink:NamedThing',\n",
    "  sources_column='subject',\n",
    "  destinations_column='object',\n",
    "  edge_list_edge_types_column='relation',\n",
    "  name=\"KG-COVID-19 version 20200925\"\n",
    ")"
   ]
  },
  {
   "cell_type": "markdown",
   "id": "0c12cf73",
   "metadata": {},
   "source": [
    "We will select only the largest connected component from the KG to analyze:"
   ]
  },
  {
   "cell_type": "code",
   "execution_count": null,
   "id": "fd75edf6",
   "metadata": {},
   "outputs": [],
   "source": [
    "g = g.remove_components(top_k_components=1)"
   ]
  },
  {
   "cell_type": "markdown",
   "id": "c87ce0a6",
   "metadata": {},
   "source": [
    "## Examine the graph\n",
    "\n",
    "Before doing any graph ML, it is usually a good idea to take a look at the graph and get a sense of the data and its topology\n",
    "\n",
    "GRAPE makes this very easy - just type the name of graph (here `g`) and GRAPE will return a very detailed summary of the graph:"
   ]
  },
  {
   "cell_type": "code",
   "execution_count": null,
   "id": "5baac74b",
   "metadata": {},
   "outputs": [],
   "source": [
    "g"
   ]
  },
  {
   "cell_type": "markdown",
   "id": "47147ff9",
   "metadata": {},
   "source": [
    "This summary provides a very nice overview of the contents and the topology of our KG. \n",
    "\n",
    "The two highest degree nodes are the MESH terms for viruses and humans, which makes sense given the subject of this KG. The most common node type is `biolink:Publication`, owing to our ingest of the Scibite-CORD19 publication dataset. We see some topological oddities of which we should be aware. These include a chain of 14 nodes, about 11k isomorphic node groups (members of these groups will have the same node embeddings for random walk-based embedding methods), and dendritic trees/stars/tendril stars (which will bias embeddings for nodes contained in these dendritic oddities, and will also prevent edges from being selected from \n",
    "\n",
    "These oddities can confuse and bias graph ML models, but since we will be using our model to rank interesting drugs that might be followed up on with other work to confirm/corroborate each drug, this is probably okay. GRAPE has methods such as these to remove these oddities if need be:\n",
    "\n",
    "* `remove_tendrils`\n",
    "* `remove_dendritic_trees`"
   ]
  },
  {
   "cell_type": "markdown",
   "id": "9c5345a4",
   "metadata": {},
   "source": [
    "## Make node embeddings\n",
    "\n",
    "Now we will make node embeddings. We are spoiled for choice here - there are many different models to choose from:"
   ]
  },
  {
   "cell_type": "code",
   "execution_count": null,
   "id": "ce9e9673",
   "metadata": {
    "scrolled": true
   },
   "outputs": [],
   "source": [
    "from grape import get_available_models_for_node_embedding\n",
    "get_available_models_for_node_embedding()"
   ]
  },
  {
   "attachments": {},
   "cell_type": "markdown",
   "id": "21658ee5",
   "metadata": {},
   "source": [
    "We will use first order Deep Walk SkipGram embeddings, which will take an hour or two, but will capture the topology well."
   ]
  },
  {
   "cell_type": "code",
   "execution_count": null,
   "id": "2f6d6260",
   "metadata": {},
   "outputs": [],
   "source": [
    "from grape.embedders import DeepWalkSkipGramEnsmallen\n",
    "embeddings = DeepWalkSkipGramEnsmallen().fit_transform(g)"
   ]
  },
  {
   "cell_type": "markdown",
   "id": "d85b3684",
   "metadata": {},
   "source": [
    "Now let's get a sense of how well we have embedded the nodes. GRAPE provides a very detailed summary of embeddings with just this one command:"
   ]
  },
  {
   "cell_type": "code",
   "execution_count": null,
   "id": "03ec19be",
   "metadata": {},
   "outputs": [],
   "source": [
    "from grape import GraphVisualizer\n",
    "GraphVisualizer(g).fit_and_plot_all(embeddings)"
   ]
  },
  {
   "cell_type": "markdown",
   "id": "71ca065b",
   "metadata": {},
   "source": [
    "Above is a detailed analysis of the embeddings based on tSNE transformation of the embeddings, automatically provided by GRAPE. \n",
    "\n",
    "Of particular interest to us: in panels B and C we observe fairly good separation between node types and node sources, respectively. This suggests that the embeddings contain information about what sort of entities they are, and implies that they will be useful for downstream tasks such as node classification.\n",
    "\n",
    "Note also panels D and M, which show analyses of edge embeddings (generated by combining the embeddings of the two nodes involved in the edge). We observe fairly good separation between edges embeddings that actually exist in the graph (orange) and randomly selected 'negative' edges that do not exist in the graph (blue) (note that the y-axis is log-scaled). Again, this suggests that these embeddings will be useful for downstream tasks such as link prediction. "
   ]
  },
  {
   "cell_type": "markdown",
   "id": "1f0d5967",
   "metadata": {},
   "source": [
    "## Use cosine similarity to rank drugs for relevance to COVID-19\n",
    "\n",
    "Now let's do an experiment - let's rank drugs by their closeness to SARS-Cov-2, as measured by the cosine similarity between the embedding representing each drug and the embedding representing SARS-Cov-2. We can use this similarity to see if this provides information about drugs that may have a relationship, known or unknown, with COVID-19. "
   ]
  },
  {
   "cell_type": "markdown",
   "id": "df310caa",
   "metadata": {},
   "source": [
    "Here's the node representing SARS-CoV-2:"
   ]
  },
  {
   "cell_type": "code",
   "execution_count": null,
   "id": "bb2bda47",
   "metadata": {},
   "outputs": [],
   "source": [
    "sars_cov_2_curie = 'NCBITaxon:227859'"
   ]
  },
  {
   "cell_type": "markdown",
   "id": "a4cec310",
   "metadata": {},
   "source": [
    "Now let's get all the nodes representing CHEMBL drugs of interest:"
   ]
  },
  {
   "cell_type": "code",
   "execution_count": null,
   "id": "b8a17b95",
   "metadata": {},
   "outputs": [],
   "source": [
    "chembl_drugs = [k for (k, v) in g.get_nodes_mapping().items() if k.startswith('CHEMBL.COMPOUND')]"
   ]
  },
  {
   "cell_type": "markdown",
   "id": "2c01213d",
   "metadata": {},
   "source": [
    "Now make a simple method `get_cosine_sim()` to calculate cosine similarity between SARS-CoV-2 and each CHEMBL drug:"
   ]
  },
  {
   "cell_type": "code",
   "execution_count": null,
   "id": "913f56b9",
   "metadata": {},
   "outputs": [],
   "source": [
    "import numpy as np\n",
    "import pandas as pd\n",
    "from tqdm.auto import tqdm\n",
    "from scipy import spatial\n",
    "\n",
    "def get_cosine_sim(sars_cov_2_curie: str, drug_curies: list, embeddings: pd.DataFrame, drug_names: pd.DataFrame) ->  np.ndarray:\n",
    "    cosine_sim = np.full(len(drug_curies), -1000.0000)\n",
    "    \n",
    "    sars_cov_2_embedding = embeddings.loc[sars_cov_2_curie]\n",
    "\n",
    "    for i, drug_curie in tqdm(enumerate(drug_curies)):\n",
    "        cosine_sim[i] = 1 - spatial.distance.cosine(sars_cov_2_embedding, \n",
    "                                                    embeddings.loc[drug_curie]\n",
    "                                                   ).flatten()[0]\n",
    "    df = pd.DataFrame({'drug': drug_curies, 'cosine_sim': cosine_sim})\n",
    "    \n",
    "    \n",
    "    df = pd.merge(df, drug_names, left_on='drug', right_on='id', how='left')\n",
    "    \n",
    "    return df.sort_values(by='cosine_sim',axis=0, ascending=False)"
   ]
  },
  {
   "cell_type": "code",
   "execution_count": null,
   "id": "65e34638",
   "metadata": {
    "scrolled": true
   },
   "outputs": [],
   "source": [
    "drug_names = pd.read_csv('merged-kg_nodes.tsv', sep='\\t', on_bad_lines='skip')[['id', 'name']]\n",
    "cosine_sims = get_cosine_sim(sars_cov_2_curie, chembl_drugs, embeddings.get_node_embedding_from_index(0), drug_names)\n",
    "\n",
    "pd.set_option('display.max_rows', 5)\n",
    "cosine_sims.head(5)"
   ]
  },
  {
   "cell_type": "markdown",
   "id": "34393b41",
   "metadata": {},
   "source": [
    "Notice that two antiviral drugs (ribavirin and oseltamivir) appear in the top five ranked drugs. \n",
    "Also notice that chloroquine, a malaria drug that was investigated early on in the pandemic for \n",
    "COVID-19 treatment but found to not be effective, is in the top five ranked drugs too. This \n",
    "underscores the need for subsequent research and validation of all results from ML experiments!\n",
    "However, this simple experiment indicates that embeddings are providing a ranking of drugs that\n",
    "have some relationship to COVID-19/SARS-CoV-2."
   ]
  },
  {
   "cell_type": "code",
   "execution_count": null,
   "id": "b78f4d0a",
   "metadata": {},
   "outputs": [],
   "source": [
    "cosine_sims.to_csv('cosine_sims.tsv', sep='\\t')"
   ]
  }
 ],
 "metadata": {
  "kernelspec": {
   "display_name": "Python 3 (ipykernel)",
   "language": "python",
   "name": "python3"
  },
  "language_info": {
   "codemirror_mode": {
    "name": "ipython",
    "version": 3
   },
   "file_extension": ".py",
   "mimetype": "text/x-python",
   "name": "python",
   "nbconvert_exporter": "python",
   "pygments_lexer": "ipython3",
   "version": "3.8.10"
  },
  "vscode": {
   "interpreter": {
    "hash": "f9f85f796d01129d0dd105a088854619f454435301f6ffec2fea96ecbd9be4ac"
   }
  }
 },
 "nbformat": 4,
 "nbformat_minor": 5
}
